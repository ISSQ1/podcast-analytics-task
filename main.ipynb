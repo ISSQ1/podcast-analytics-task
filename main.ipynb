{
 "cells": [
  {
   "cell_type": "markdown",
   "id": "47bce72f",
   "metadata": {},
   "source": [
    "## 🛠️ Libraries Used"
   ]
  },
  {
   "cell_type": "code",
   "execution_count": 27,
   "id": "9273c81a",
   "metadata": {},
   "outputs": [],
   "source": [
    "import pandas as pd\n",
    "import matplotlib.pyplot as plt"
   ]
  },
  {
   "cell_type": "markdown",
   "id": "44944a80",
   "metadata": {},
   "source": [
    "## 📥 Step 1: Reading and Preparing the Data\n"
   ]
  },
  {
   "cell_type": "code",
   "execution_count": 3,
   "id": "d24d7341",
   "metadata": {},
   "outputs": [],
   "source": [
    "users_df = pd.read_csv(r\"C:\\Coding\\assignment\\users.csv\")\n",
    "episodes_df = pd.read_csv(r\"C:\\Coding\\assignment\\episodes.csv\")\n",
    "listens_df = pd.read_json(r\"C:\\Coding\\assignment\\listens.json\")"
   ]
  },
  {
   "cell_type": "code",
   "execution_count": 4,
   "id": "a6f254f5",
   "metadata": {},
   "outputs": [
    {
     "data": {
      "text/html": [
       "<div>\n",
       "<style scoped>\n",
       "    .dataframe tbody tr th:only-of-type {\n",
       "        vertical-align: middle;\n",
       "    }\n",
       "\n",
       "    .dataframe tbody tr th {\n",
       "        vertical-align: top;\n",
       "    }\n",
       "\n",
       "    .dataframe thead th {\n",
       "        text-align: right;\n",
       "    }\n",
       "</style>\n",
       "<table border=\"1\" class=\"dataframe\">\n",
       "  <thead>\n",
       "    <tr style=\"text-align: right;\">\n",
       "      <th></th>\n",
       "      <th>user_id</th>\n",
       "      <th>age</th>\n",
       "      <th>gender</th>\n",
       "      <th>country</th>\n",
       "    </tr>\n",
       "  </thead>\n",
       "  <tbody>\n",
       "    <tr>\n",
       "      <th>0</th>\n",
       "      <td>1</td>\n",
       "      <td>38</td>\n",
       "      <td>female</td>\n",
       "      <td>Morocco</td>\n",
       "    </tr>\n",
       "    <tr>\n",
       "      <th>1</th>\n",
       "      <td>2</td>\n",
       "      <td>30</td>\n",
       "      <td>female</td>\n",
       "      <td>Jordan</td>\n",
       "    </tr>\n",
       "    <tr>\n",
       "      <th>2</th>\n",
       "      <td>3</td>\n",
       "      <td>42</td>\n",
       "      <td>male</td>\n",
       "      <td>Saudi Arabia</td>\n",
       "    </tr>\n",
       "    <tr>\n",
       "      <th>3</th>\n",
       "      <td>4</td>\n",
       "      <td>57</td>\n",
       "      <td>female</td>\n",
       "      <td>Egypt</td>\n",
       "    </tr>\n",
       "    <tr>\n",
       "      <th>4</th>\n",
       "      <td>5</td>\n",
       "      <td>51</td>\n",
       "      <td>female</td>\n",
       "      <td>Jordan</td>\n",
       "    </tr>\n",
       "  </tbody>\n",
       "</table>\n",
       "</div>"
      ],
      "text/plain": [
       "   user_id  age  gender       country\n",
       "0        1   38  female       Morocco\n",
       "1        2   30  female        Jordan\n",
       "2        3   42    male  Saudi Arabia\n",
       "3        4   57  female         Egypt\n",
       "4        5   51  female        Jordan"
      ]
     },
     "execution_count": 4,
     "metadata": {},
     "output_type": "execute_result"
    }
   ],
   "source": [
    "users_df.head()"
   ]
  },
  {
   "cell_type": "code",
   "execution_count": 5,
   "id": "f2684a0d",
   "metadata": {},
   "outputs": [
    {
     "name": "stdout",
     "output_type": "stream",
     "text": [
      "<class 'pandas.core.frame.DataFrame'>\n",
      "RangeIndex: 20 entries, 0 to 19\n",
      "Data columns (total 4 columns):\n",
      " #   Column   Non-Null Count  Dtype \n",
      "---  ------   --------------  ----- \n",
      " 0   user_id  20 non-null     int64 \n",
      " 1   age      20 non-null     int64 \n",
      " 2   gender   20 non-null     object\n",
      " 3   country  20 non-null     object\n",
      "dtypes: int64(2), object(2)\n",
      "memory usage: 768.0+ bytes\n"
     ]
    }
   ],
   "source": [
    "users_df.info()"
   ]
  },
  {
   "cell_type": "code",
   "execution_count": 6,
   "id": "c410665f",
   "metadata": {},
   "outputs": [
    {
     "data": {
      "text/html": [
       "<div>\n",
       "<style scoped>\n",
       "    .dataframe tbody tr th:only-of-type {\n",
       "        vertical-align: middle;\n",
       "    }\n",
       "\n",
       "    .dataframe tbody tr th {\n",
       "        vertical-align: top;\n",
       "    }\n",
       "\n",
       "    .dataframe thead th {\n",
       "        text-align: right;\n",
       "    }\n",
       "</style>\n",
       "<table border=\"1\" class=\"dataframe\">\n",
       "  <thead>\n",
       "    <tr style=\"text-align: right;\">\n",
       "      <th></th>\n",
       "      <th>user_id</th>\n",
       "      <th>age</th>\n",
       "    </tr>\n",
       "  </thead>\n",
       "  <tbody>\n",
       "    <tr>\n",
       "      <th>count</th>\n",
       "      <td>20.00000</td>\n",
       "      <td>20.000000</td>\n",
       "    </tr>\n",
       "    <tr>\n",
       "      <th>mean</th>\n",
       "      <td>10.50000</td>\n",
       "      <td>40.200000</td>\n",
       "    </tr>\n",
       "    <tr>\n",
       "      <th>std</th>\n",
       "      <td>5.91608</td>\n",
       "      <td>11.349009</td>\n",
       "    </tr>\n",
       "    <tr>\n",
       "      <th>min</th>\n",
       "      <td>1.00000</td>\n",
       "      <td>19.000000</td>\n",
       "    </tr>\n",
       "    <tr>\n",
       "      <th>25%</th>\n",
       "      <td>5.75000</td>\n",
       "      <td>31.500000</td>\n",
       "    </tr>\n",
       "    <tr>\n",
       "      <th>50%</th>\n",
       "      <td>10.50000</td>\n",
       "      <td>42.000000</td>\n",
       "    </tr>\n",
       "    <tr>\n",
       "      <th>75%</th>\n",
       "      <td>15.25000</td>\n",
       "      <td>46.500000</td>\n",
       "    </tr>\n",
       "    <tr>\n",
       "      <th>max</th>\n",
       "      <td>20.00000</td>\n",
       "      <td>59.000000</td>\n",
       "    </tr>\n",
       "  </tbody>\n",
       "</table>\n",
       "</div>"
      ],
      "text/plain": [
       "        user_id        age\n",
       "count  20.00000  20.000000\n",
       "mean   10.50000  40.200000\n",
       "std     5.91608  11.349009\n",
       "min     1.00000  19.000000\n",
       "25%     5.75000  31.500000\n",
       "50%    10.50000  42.000000\n",
       "75%    15.25000  46.500000\n",
       "max    20.00000  59.000000"
      ]
     },
     "execution_count": 6,
     "metadata": {},
     "output_type": "execute_result"
    }
   ],
   "source": [
    "users_df.describe()"
   ]
  },
  {
   "cell_type": "code",
   "execution_count": 7,
   "id": "0df4ddc3",
   "metadata": {},
   "outputs": [
    {
     "data": {
      "text/plain": [
       "user_id    0\n",
       "age        0\n",
       "gender     0\n",
       "country    0\n",
       "dtype: int64"
      ]
     },
     "execution_count": 7,
     "metadata": {},
     "output_type": "execute_result"
    }
   ],
   "source": [
    "users_df.isnull().sum()"
   ]
  },
  {
   "cell_type": "code",
   "execution_count": 8,
   "id": "3a30bee8",
   "metadata": {},
   "outputs": [
    {
     "data": {
      "text/plain": [
       "0"
      ]
     },
     "execution_count": 8,
     "metadata": {},
     "output_type": "execute_result"
    }
   ],
   "source": [
    "users_df.duplicated().sum()"
   ]
  },
  {
   "cell_type": "code",
   "execution_count": 22,
   "id": "1266cd67",
   "metadata": {},
   "outputs": [
    {
     "name": "stdout",
     "output_type": "stream",
     "text": [
      "['female' 'male']\n"
     ]
    }
   ],
   "source": [
    "print(users_df['gender'].unique())"
   ]
  },
  {
   "cell_type": "code",
   "execution_count": 9,
   "id": "b115a624",
   "metadata": {},
   "outputs": [
    {
     "data": {
      "text/html": [
       "<div>\n",
       "<style scoped>\n",
       "    .dataframe tbody tr th:only-of-type {\n",
       "        vertical-align: middle;\n",
       "    }\n",
       "\n",
       "    .dataframe tbody tr th {\n",
       "        vertical-align: top;\n",
       "    }\n",
       "\n",
       "    .dataframe thead th {\n",
       "        text-align: right;\n",
       "    }\n",
       "</style>\n",
       "<table border=\"1\" class=\"dataframe\">\n",
       "  <thead>\n",
       "    <tr style=\"text-align: right;\">\n",
       "      <th></th>\n",
       "      <th>episode_id</th>\n",
       "      <th>title</th>\n",
       "      <th>category</th>\n",
       "    </tr>\n",
       "  </thead>\n",
       "  <tbody>\n",
       "    <tr>\n",
       "      <th>0</th>\n",
       "      <td>1</td>\n",
       "      <td>Episode 1</td>\n",
       "      <td>Religion</td>\n",
       "    </tr>\n",
       "    <tr>\n",
       "      <th>1</th>\n",
       "      <td>2</td>\n",
       "      <td>Episode 2</td>\n",
       "      <td>Technology</td>\n",
       "    </tr>\n",
       "    <tr>\n",
       "      <th>2</th>\n",
       "      <td>3</td>\n",
       "      <td>Episode 3</td>\n",
       "      <td>Society</td>\n",
       "    </tr>\n",
       "    <tr>\n",
       "      <th>3</th>\n",
       "      <td>4</td>\n",
       "      <td>Episode 4</td>\n",
       "      <td>News</td>\n",
       "    </tr>\n",
       "    <tr>\n",
       "      <th>4</th>\n",
       "      <td>5</td>\n",
       "      <td>Episode 5</td>\n",
       "      <td>Politics</td>\n",
       "    </tr>\n",
       "  </tbody>\n",
       "</table>\n",
       "</div>"
      ],
      "text/plain": [
       "   episode_id      title    category\n",
       "0           1  Episode 1    Religion\n",
       "1           2  Episode 2  Technology\n",
       "2           3  Episode 3     Society\n",
       "3           4  Episode 4        News\n",
       "4           5  Episode 5    Politics"
      ]
     },
     "execution_count": 9,
     "metadata": {},
     "output_type": "execute_result"
    }
   ],
   "source": [
    "episodes_df.head()"
   ]
  },
  {
   "cell_type": "code",
   "execution_count": 10,
   "id": "d3a49026",
   "metadata": {},
   "outputs": [
    {
     "name": "stdout",
     "output_type": "stream",
     "text": [
      "<class 'pandas.core.frame.DataFrame'>\n",
      "RangeIndex: 30 entries, 0 to 29\n",
      "Data columns (total 3 columns):\n",
      " #   Column      Non-Null Count  Dtype \n",
      "---  ------      --------------  ----- \n",
      " 0   episode_id  30 non-null     int64 \n",
      " 1   title       30 non-null     object\n",
      " 2   category    30 non-null     object\n",
      "dtypes: int64(1), object(2)\n",
      "memory usage: 848.0+ bytes\n"
     ]
    }
   ],
   "source": [
    "episodes_df.info()"
   ]
  },
  {
   "cell_type": "code",
   "execution_count": 11,
   "id": "297792d0",
   "metadata": {},
   "outputs": [
    {
     "data": {
      "text/plain": [
       "episode_id    0\n",
       "title         0\n",
       "category      0\n",
       "dtype: int64"
      ]
     },
     "execution_count": 11,
     "metadata": {},
     "output_type": "execute_result"
    }
   ],
   "source": [
    "episodes_df.isnull().sum()"
   ]
  },
  {
   "cell_type": "code",
   "execution_count": 12,
   "id": "aa80a482",
   "metadata": {},
   "outputs": [
    {
     "data": {
      "text/plain": [
       "0"
      ]
     },
     "execution_count": 12,
     "metadata": {},
     "output_type": "execute_result"
    }
   ],
   "source": [
    "episodes_df.duplicated().sum()"
   ]
  },
  {
   "cell_type": "code",
   "execution_count": 21,
   "id": "4348988b",
   "metadata": {},
   "outputs": [
    {
     "name": "stdout",
     "output_type": "stream",
     "text": [
      "['Religion' 'Technology' 'Society' 'News' 'Politics' 'Sports']\n"
     ]
    }
   ],
   "source": [
    "print(episodes_df['category'].unique())"
   ]
  },
  {
   "cell_type": "code",
   "execution_count": 14,
   "id": "63f04ec0",
   "metadata": {},
   "outputs": [
    {
     "data": {
      "text/html": [
       "<div>\n",
       "<style scoped>\n",
       "    .dataframe tbody tr th:only-of-type {\n",
       "        vertical-align: middle;\n",
       "    }\n",
       "\n",
       "    .dataframe tbody tr th {\n",
       "        vertical-align: top;\n",
       "    }\n",
       "\n",
       "    .dataframe thead th {\n",
       "        text-align: right;\n",
       "    }\n",
       "</style>\n",
       "<table border=\"1\" class=\"dataframe\">\n",
       "  <thead>\n",
       "    <tr style=\"text-align: right;\">\n",
       "      <th></th>\n",
       "      <th>user_id</th>\n",
       "      <th>episode_id</th>\n",
       "      <th>duration_seconds</th>\n",
       "    </tr>\n",
       "  </thead>\n",
       "  <tbody>\n",
       "    <tr>\n",
       "      <th>0</th>\n",
       "      <td>16</td>\n",
       "      <td>30</td>\n",
       "      <td>60</td>\n",
       "    </tr>\n",
       "    <tr>\n",
       "      <th>1</th>\n",
       "      <td>6</td>\n",
       "      <td>8</td>\n",
       "      <td>120</td>\n",
       "    </tr>\n",
       "    <tr>\n",
       "      <th>2</th>\n",
       "      <td>6</td>\n",
       "      <td>13</td>\n",
       "      <td>60</td>\n",
       "    </tr>\n",
       "    <tr>\n",
       "      <th>3</th>\n",
       "      <td>6</td>\n",
       "      <td>27</td>\n",
       "      <td>1500</td>\n",
       "    </tr>\n",
       "    <tr>\n",
       "      <th>4</th>\n",
       "      <td>17</td>\n",
       "      <td>9</td>\n",
       "      <td>1500</td>\n",
       "    </tr>\n",
       "  </tbody>\n",
       "</table>\n",
       "</div>"
      ],
      "text/plain": [
       "   user_id  episode_id  duration_seconds\n",
       "0       16          30                60\n",
       "1        6           8               120\n",
       "2        6          13                60\n",
       "3        6          27              1500\n",
       "4       17           9              1500"
      ]
     },
     "execution_count": 14,
     "metadata": {},
     "output_type": "execute_result"
    }
   ],
   "source": [
    "listens_df.head()"
   ]
  },
  {
   "cell_type": "code",
   "execution_count": 15,
   "id": "d4bd8b01",
   "metadata": {},
   "outputs": [
    {
     "name": "stdout",
     "output_type": "stream",
     "text": [
      "<class 'pandas.core.frame.DataFrame'>\n",
      "RangeIndex: 100 entries, 0 to 99\n",
      "Data columns (total 3 columns):\n",
      " #   Column            Non-Null Count  Dtype\n",
      "---  ------            --------------  -----\n",
      " 0   user_id           100 non-null    int64\n",
      " 1   episode_id        100 non-null    int64\n",
      " 2   duration_seconds  100 non-null    int64\n",
      "dtypes: int64(3)\n",
      "memory usage: 2.5 KB\n"
     ]
    }
   ],
   "source": [
    "listens_df.info()"
   ]
  },
  {
   "cell_type": "code",
   "execution_count": 16,
   "id": "10ac5bab",
   "metadata": {},
   "outputs": [
    {
     "data": {
      "text/html": [
       "<div>\n",
       "<style scoped>\n",
       "    .dataframe tbody tr th:only-of-type {\n",
       "        vertical-align: middle;\n",
       "    }\n",
       "\n",
       "    .dataframe tbody tr th {\n",
       "        vertical-align: top;\n",
       "    }\n",
       "\n",
       "    .dataframe thead th {\n",
       "        text-align: right;\n",
       "    }\n",
       "</style>\n",
       "<table border=\"1\" class=\"dataframe\">\n",
       "  <thead>\n",
       "    <tr style=\"text-align: right;\">\n",
       "      <th></th>\n",
       "      <th>user_id</th>\n",
       "      <th>episode_id</th>\n",
       "      <th>duration_seconds</th>\n",
       "    </tr>\n",
       "  </thead>\n",
       "  <tbody>\n",
       "    <tr>\n",
       "      <th>count</th>\n",
       "      <td>100.000000</td>\n",
       "      <td>100.00000</td>\n",
       "      <td>100.000000</td>\n",
       "    </tr>\n",
       "    <tr>\n",
       "      <th>mean</th>\n",
       "      <td>10.760000</td>\n",
       "      <td>15.50000</td>\n",
       "      <td>669.000000</td>\n",
       "    </tr>\n",
       "    <tr>\n",
       "      <th>std</th>\n",
       "      <td>5.976587</td>\n",
       "      <td>9.64784</td>\n",
       "      <td>689.420046</td>\n",
       "    </tr>\n",
       "    <tr>\n",
       "      <th>min</th>\n",
       "      <td>1.000000</td>\n",
       "      <td>1.00000</td>\n",
       "      <td>0.000000</td>\n",
       "    </tr>\n",
       "    <tr>\n",
       "      <th>25%</th>\n",
       "      <td>6.000000</td>\n",
       "      <td>7.00000</td>\n",
       "      <td>60.000000</td>\n",
       "    </tr>\n",
       "    <tr>\n",
       "      <th>50%</th>\n",
       "      <td>11.000000</td>\n",
       "      <td>14.00000</td>\n",
       "      <td>300.000000</td>\n",
       "    </tr>\n",
       "    <tr>\n",
       "      <th>75%</th>\n",
       "      <td>16.000000</td>\n",
       "      <td>25.00000</td>\n",
       "      <td>1500.000000</td>\n",
       "    </tr>\n",
       "    <tr>\n",
       "      <th>max</th>\n",
       "      <td>20.000000</td>\n",
       "      <td>30.00000</td>\n",
       "      <td>1800.000000</td>\n",
       "    </tr>\n",
       "  </tbody>\n",
       "</table>\n",
       "</div>"
      ],
      "text/plain": [
       "          user_id  episode_id  duration_seconds\n",
       "count  100.000000   100.00000        100.000000\n",
       "mean    10.760000    15.50000        669.000000\n",
       "std      5.976587     9.64784        689.420046\n",
       "min      1.000000     1.00000          0.000000\n",
       "25%      6.000000     7.00000         60.000000\n",
       "50%     11.000000    14.00000        300.000000\n",
       "75%     16.000000    25.00000       1500.000000\n",
       "max     20.000000    30.00000       1800.000000"
      ]
     },
     "execution_count": 16,
     "metadata": {},
     "output_type": "execute_result"
    }
   ],
   "source": [
    "listens_df.describe()"
   ]
  },
  {
   "cell_type": "code",
   "execution_count": 17,
   "id": "8545d69b",
   "metadata": {},
   "outputs": [
    {
     "data": {
      "text/plain": [
       "user_id             0\n",
       "episode_id          0\n",
       "duration_seconds    0\n",
       "dtype: int64"
      ]
     },
     "execution_count": 17,
     "metadata": {},
     "output_type": "execute_result"
    }
   ],
   "source": [
    "listens_df.isnull().sum()"
   ]
  },
  {
   "cell_type": "code",
   "execution_count": 18,
   "id": "2d0c1b54",
   "metadata": {},
   "outputs": [
    {
     "data": {
      "text/plain": [
       "0"
      ]
     },
     "execution_count": 18,
     "metadata": {},
     "output_type": "execute_result"
    }
   ],
   "source": [
    "listens_df.duplicated().sum()"
   ]
  },
  {
   "cell_type": "markdown",
   "id": "138e0cbe",
   "metadata": {},
   "source": [
    "### 🔍 Data Quality Review Summary\n",
    "\n",
    "Before proceeding with any transformations, I conducted an initial data quality assessment:\n",
    "\n",
    "- **Missing Values**: I confirmed that there are no null values in any of the three datasets (`users`, `episodes`, `listens`), so no imputation or removal was required.\n",
    "- **Age Validation**: All user ages are within a reasonable range (19–59), so no filtering was needed.\n",
    "- **Invalid Listen Durations**: I removed 13 records from the listens dataset where `duration_seconds` was 0, as these likely represent accidental or non-real listening interactions.\n",
    "- **Category Consistency**: All episode categories were properly formatted and consistent—no duplicates due to typos or casing differences—so no standardization was needed.\n",
    "- **Gender Column Check**: I validated the `gender` column and confirmed that it contains only two clean and consistent values: `'female'` and `'male'`. No further cleaning or normalization was required.\n",
    "\n",
    "This ensures that the dataset is clean and reliable for the analysis and recommendation steps that follow.\n"
   ]
  },
  {
   "cell_type": "code",
   "execution_count": 19,
   "id": "5ff55730",
   "metadata": {},
   "outputs": [
    {
     "name": "stdout",
     "output_type": "stream",
     "text": [
      "13 invalid records were removed.\n",
      "87 valid listening records remain.\n"
     ]
    }
   ],
   "source": [
    "# Remove records where listening duration is 0 or less\n",
    "clean_listens_df = listens_df[listens_df['duration_seconds'] > 0].copy()\n",
    "\n",
    "# Check how many records were removed and how many remain\n",
    "original_count = listens_df.shape[0]\n",
    "cleaned_count = clean_listens_df.shape[0]\n",
    "removed_count = original_count - cleaned_count\n",
    "\n",
    "print(f\"{removed_count} invalid records were removed.\")\n",
    "print(f\"{cleaned_count} valid listening records remain.\")"
   ]
  },
  {
   "cell_type": "markdown",
   "id": "be3d63ed",
   "metadata": {},
   "source": [
    "### 🔗 Merging Datasets"
   ]
  },
  {
   "cell_type": "code",
   "execution_count": 23,
   "id": "b1d6ba97",
   "metadata": {},
   "outputs": [
    {
     "data": {
      "text/html": [
       "<div>\n",
       "<style scoped>\n",
       "    .dataframe tbody tr th:only-of-type {\n",
       "        vertical-align: middle;\n",
       "    }\n",
       "\n",
       "    .dataframe tbody tr th {\n",
       "        vertical-align: top;\n",
       "    }\n",
       "\n",
       "    .dataframe thead th {\n",
       "        text-align: right;\n",
       "    }\n",
       "</style>\n",
       "<table border=\"1\" class=\"dataframe\">\n",
       "  <thead>\n",
       "    <tr style=\"text-align: right;\">\n",
       "      <th></th>\n",
       "      <th>user_id</th>\n",
       "      <th>episode_id</th>\n",
       "      <th>duration_seconds</th>\n",
       "      <th>age</th>\n",
       "      <th>gender</th>\n",
       "      <th>country</th>\n",
       "      <th>title</th>\n",
       "      <th>category</th>\n",
       "    </tr>\n",
       "  </thead>\n",
       "  <tbody>\n",
       "    <tr>\n",
       "      <th>0</th>\n",
       "      <td>16</td>\n",
       "      <td>30</td>\n",
       "      <td>60</td>\n",
       "      <td>24</td>\n",
       "      <td>female</td>\n",
       "      <td>Saudi Arabia</td>\n",
       "      <td>Episode 30</td>\n",
       "      <td>Sports</td>\n",
       "    </tr>\n",
       "    <tr>\n",
       "      <th>1</th>\n",
       "      <td>6</td>\n",
       "      <td>8</td>\n",
       "      <td>120</td>\n",
       "      <td>59</td>\n",
       "      <td>male</td>\n",
       "      <td>Morocco</td>\n",
       "      <td>Episode 8</td>\n",
       "      <td>Sports</td>\n",
       "    </tr>\n",
       "    <tr>\n",
       "      <th>2</th>\n",
       "      <td>6</td>\n",
       "      <td>13</td>\n",
       "      <td>60</td>\n",
       "      <td>59</td>\n",
       "      <td>male</td>\n",
       "      <td>Morocco</td>\n",
       "      <td>Episode 13</td>\n",
       "      <td>Society</td>\n",
       "    </tr>\n",
       "    <tr>\n",
       "      <th>3</th>\n",
       "      <td>6</td>\n",
       "      <td>27</td>\n",
       "      <td>1500</td>\n",
       "      <td>59</td>\n",
       "      <td>male</td>\n",
       "      <td>Morocco</td>\n",
       "      <td>Episode 27</td>\n",
       "      <td>News</td>\n",
       "    </tr>\n",
       "    <tr>\n",
       "      <th>4</th>\n",
       "      <td>17</td>\n",
       "      <td>9</td>\n",
       "      <td>1500</td>\n",
       "      <td>21</td>\n",
       "      <td>male</td>\n",
       "      <td>Saudi Arabia</td>\n",
       "      <td>Episode 9</td>\n",
       "      <td>Sports</td>\n",
       "    </tr>\n",
       "  </tbody>\n",
       "</table>\n",
       "</div>"
      ],
      "text/plain": [
       "   user_id  episode_id  duration_seconds  age  gender       country  \\\n",
       "0       16          30                60   24  female  Saudi Arabia   \n",
       "1        6           8               120   59    male       Morocco   \n",
       "2        6          13                60   59    male       Morocco   \n",
       "3        6          27              1500   59    male       Morocco   \n",
       "4       17           9              1500   21    male  Saudi Arabia   \n",
       "\n",
       "        title category  \n",
       "0  Episode 30   Sports  \n",
       "1   Episode 8   Sports  \n",
       "2  Episode 13  Society  \n",
       "3  Episode 27     News  \n",
       "4   Episode 9   Sports  "
      ]
     },
     "execution_count": 23,
     "metadata": {},
     "output_type": "execute_result"
    }
   ],
   "source": [
    "# Merge the cleaned listens data with the users data on user_id\n",
    "merged_df = clean_listens_df.merge(users_df, on='user_id', how='left')\n",
    "\n",
    "# Merge the result with the episodes data on episode_id\n",
    "merged_df = merged_df.merge(episodes_df, on='episode_id', how='left')\n",
    "\n",
    "# Preview the first few rows of the merged dataset\n",
    "merged_df.head()"
   ]
  },
  {
   "cell_type": "markdown",
   "id": "e59f4c4a",
   "metadata": {},
   "source": [
    "## 📊 Step 2: Data Analysis"
   ]
  },
  {
   "cell_type": "markdown",
   "id": "204f7658",
   "metadata": {},
   "source": [
    "### 📊 Most Listened-To Episode Categories"
   ]
  },
  {
   "cell_type": "code",
   "execution_count": 25,
   "id": "0b5aaa47",
   "metadata": {},
   "outputs": [
    {
     "data": {
      "text/plain": [
       "category\n",
       "Society       29\n",
       "Sports        28\n",
       "News          13\n",
       "Religion       9\n",
       "Technology     4\n",
       "Politics       4\n",
       "Name: count, dtype: int64"
      ]
     },
     "execution_count": 25,
     "metadata": {},
     "output_type": "execute_result"
    }
   ],
   "source": [
    "# Count the number of listens per episode category\n",
    "category_counts = merged_df['category'].value_counts()\n",
    "category_counts"
   ]
  },
  {
   "cell_type": "code",
   "execution_count": 41,
   "id": "74811e09",
   "metadata": {},
   "outputs": [
    {
     "data": {
      "image/png": "[encoded data removed]",
      "text/plain": [
       "<Figure size 500x500 with 1 Axes>"
      ]
     },
     "metadata": {},
     "output_type": "display_data"
    }
   ],
   "source": [
    "# Plot the results using a bar chart\n",
    "plt.figure(figsize=(5, 5))\n",
    "category_counts.plot(kind='bar')\n",
    "plt.title('Most Listened-To Episode Categories')\n",
    "plt.xlabel('Category')\n",
    "plt.ylabel('Number of Listens')\n",
    "plt.xticks(rotation=45)\n",
    "plt.tight_layout()\n",
    "plt.show()\n"
   ]
  },
  {
   "cell_type": "markdown",
   "id": "6f340ff1",
   "metadata": {},
   "source": [
    "### 🔍 Q1: What are the most listened-to episode categories?\n",
    "\n",
    "To answer this, I counted the number of listening records for each episode category using `value_counts()` on the merged dataset.\n",
    "\n",
    "**Result:**\n",
    "- Society (29 listens)\n",
    "- Sports (28 listens)\n",
    "- News (13 listens)\n",
    "- Religion (9 listens)\n",
    "- Technology (4 listens)\n",
    "- Politics (4 listens)\n",
    "\n",
    "**Conclusion:**\n",
    "The most popular content categories are *Society* and *Sports*, indicating that users are most engaged with social and sports-related topics.\n"
   ]
  },
  {
   "cell_type": "markdown",
   "id": "37e74e87",
   "metadata": {},
   "source": [
    "### 🎧 Average Listening Duration by Gender"
   ]
  },
  {
   "cell_type": "code",
   "execution_count": 30,
   "id": "807036d2",
   "metadata": {},
   "outputs": [
    {
     "data": {
      "text/plain": [
       "gender\n",
       "female    908.181818\n",
       "male      626.511628\n",
       "Name: duration_seconds, dtype: float64"
      ]
     },
     "execution_count": 30,
     "metadata": {},
     "output_type": "execute_result"
    }
   ],
   "source": [
    "# Group by gender and calculate the mean of listening durations\n",
    "avg_duration_by_gender = merged_df.groupby('gender')['duration_seconds'].mean().sort_values(ascending=False)\n",
    "avg_duration_by_gender"
   ]
  },
  {
   "cell_type": "code",
   "execution_count": 40,
   "id": "9987e143",
   "metadata": {},
   "outputs": [
    {
     "data": {
      "image/png": "[encoded data removed]",
      "text/plain": [
       "<Figure size 500x500 with 1 Axes>"
      ]
     },
     "metadata": {},
     "output_type": "display_data"
    }
   ],
   "source": [
    "# Plot the result as a bar chart\n",
    "plt.figure(figsize=(5, 5))\n",
    "avg_duration_by_gender.plot(kind='bar', color=['blue', 'red'])\n",
    "plt.title('Average Listening Duration by Gender')\n",
    "plt.xlabel('Gender')\n",
    "plt.ylabel('Average Duration (seconds)')\n",
    "plt.xticks(rotation=0)\n",
    "plt.tight_layout()\n",
    "plt.show()"
   ]
  },
  {
   "cell_type": "code",
   "execution_count": 39,
   "id": "be82116f",
   "metadata": {},
   "outputs": [
    {
     "name": "stdout",
     "output_type": "stream",
     "text": [
      "Difference (female - male): 281.67 seconds\n"
     ]
    }
   ],
   "source": [
    "# Calculate the difference: female - male\n",
    "duration_difference = avg_duration_by_gender['female'] - avg_duration_by_gender['male']\n",
    "\n",
    "# Print the result\n",
    "print(f\"Difference (female - male): {duration_difference:.2f} seconds\")"
   ]
  },
  {
   "cell_type": "markdown",
   "id": "d0a614ea",
   "metadata": {},
   "source": [
    "### 🔍 Q2: What is the difference in average listening duration between males and females?\n",
    "\n",
    "To answer this question, I calculated the mean listening duration for each gender, then subtracted the male average from the female average to determine which gender tends to listen longer.\n",
    "\n",
    "**Results:**\n",
    "- Female: 908.18 seconds\n",
    "- Male: 626.51 seconds\n",
    "- **Difference:** Females listen **281.67 seconds longer** on average than males.\n",
    "\n",
    "**Conclusion:**\n",
    "On average, female users tend to engage with podcast episodes for a longer duration than male users, which may indicate a higher level of content interest or retention.\n"
   ]
  },
  {
   "cell_type": "markdown",
   "id": "7b42a2b3",
   "metadata": {},
   "source": [
    "### 🎧 Average Number of Episodes Listened to per User"
   ]
  },
  {
   "cell_type": "code",
   "execution_count": 42,
   "id": "982d4501",
   "metadata": {},
   "outputs": [
    {
     "name": "stdout",
     "output_type": "stream",
     "text": [
      "Average number of episodes listened to per user: 4.42\n"
     ]
    }
   ],
   "source": [
    "# Group by user_id and count the number of unique episodes they listened to\n",
    "episodes_per_user = merged_df.groupby('user_id')['episode_id'].nunique()\n",
    "\n",
    "# Calculate the overall average\n",
    "avg_episodes_per_user = episodes_per_user.mean()\n",
    "\n",
    "# Print the result\n",
    "print(f\"Average number of episodes listened to per user: {avg_episodes_per_user:.2f}\")"
   ]
  },
  {
   "cell_type": "code",
   "execution_count": 43,
   "id": "85055665",
   "metadata": {},
   "outputs": [
    {
     "data": {
      "text/plain": [
       "user_id\n",
       "1     4\n",
       "2     6\n",
       "3     4\n",
       "4     1\n",
       "5     5\n",
       "6     8\n",
       "7     4\n",
       "8     4\n",
       "9     3\n",
       "10    3\n",
       "11    2\n",
       "12    4\n",
       "14    6\n",
       "15    7\n",
       "16    6\n",
       "17    2\n",
       "18    4\n",
       "19    6\n",
       "20    5\n",
       "Name: episode_id, dtype: int64"
      ]
     },
     "execution_count": 43,
     "metadata": {},
     "output_type": "execute_result"
    }
   ],
   "source": [
    "episodes_per_user"
   ]
  },
  {
   "cell_type": "markdown",
   "id": "e4cc7464",
   "metadata": {},
   "source": [
    "### 🧠 Bonus Analysis: Additional Metric for Understanding User Behavior\n",
    "\n",
    "Based on the available data, I proposed an additional analysis to better understand user behavior and content engagement.\n"
   ]
  },
  {
   "cell_type": "markdown",
   "id": "e8c0f968",
   "metadata": {},
   "source": [
    "### 📌 Proposed Analysis: Depth of Engagement vs. Frequency of Plays\n",
    "\n",
    "While the first question focused on identifying the most popular episode categories by **number of plays**, this proposed analysis goes a step further to evaluate **engagement depth** — how much time users actually spend listening.\n",
    "\n",
    "The goal is to move beyond simple play counts and explore:\n",
    "- Which episodes or categories users truly engage with for longer periods.\n",
    "- Which episodes tend to be abandoned early, potentially indicating lower interest or quality.\n",
    "\n",
    "---\n",
    "\n",
    "#### ✅ What *can* be analyzed from the current dataset:\n",
    "- Total listening duration per episode or category.\n",
    "- Episodes with consistently **high listening times** (e.g., close to 1800 seconds) may indicate high interest.\n",
    "- Episodes with **very short listening durations** across users may reflect poor engagement.\n",
    "\n",
    "This allows us to identify which content is worth prioritizing or reducing based on actual user behavior.\n",
    "\n",
    "---\n",
    "\n",
    "#### ❌ What *cannot* be analyzed due to missing data:\n",
    "- **Completion rate**: We cannot determine how much of each episode was actually completed because the dataset lacks a column for the **total episode duration**.\n",
    "- **Preference for short vs. long content**: Without knowing how long each episode is, we can’t analyze whether users prefer shorter or longer episodes — a valuable insight for improving content recommendations.\n",
    "\n",
    "Having access to the full duration of each episode would enable more accurate engagement metrics and help tailor production strategies based on actual user preferences.\n"
   ]
  },
  {
   "cell_type": "code",
   "execution_count": 45,
   "id": "7c8ef171",
   "metadata": {},
   "outputs": [
    {
     "name": "stdout",
     "output_type": "stream",
     "text": [
      "    episode_id       title    category  duration_seconds\n",
      "15          18  Episode 18        News            1800.0\n",
      "1            2   Episode 2  Technology            1650.0\n",
      "23          27  Episode 27        News            1440.0\n",
      "20          24  Episode 24     Society            1230.0\n",
      "26          30  Episode 30      Sports            1215.0\n",
      "4            5   Episode 5    Politics              60.0\n",
      "5            6   Episode 6     Society             260.0\n",
      "24          28  Episode 28        News             288.0\n",
      "17          21  Episode 21     Society             300.0\n",
      "22          26  Episode 26  Technology             300.0\n"
     ]
    }
   ],
   "source": [
    "# Group by episode_id and calculate the average listening duration\n",
    "avg_duration_per_episode = merged_df.groupby('episode_id')['duration_seconds'].mean().reset_index()\n",
    "\n",
    "# Merge with episodes_df to include episode titles and categories\n",
    "avg_duration_per_episode = avg_duration_per_episode.merge(episodes_df, on='episode_id', how='left')\n",
    "\n",
    "# Get top 5 episodes with highest average listening duration\n",
    "top_episodes = avg_duration_per_episode.sort_values(by='duration_seconds', ascending=False).head(5)\n",
    "\n",
    "# Get bottom 5 episodes with lowest average listening duration\n",
    "bottom_episodes = avg_duration_per_episode.sort_values(by='duration_seconds', ascending=True).head(5)\n",
    "\n",
    "# Display the most and least engaging episodes\n",
    "most_and_least_engaging = pd.concat([top_episodes, bottom_episodes])\n",
    "print(most_and_least_engaging[['episode_id', 'title', 'category', 'duration_seconds']])"
   ]
  },
  {
   "cell_type": "markdown",
   "id": "bfe20035",
   "metadata": {},
   "source": [
    "This analysis allows the company to:\n",
    "\n",
    "- Identify the episodes that users genuinely engage with based on actual listening time.\n",
    "- Reconsider content that receives little attention in terms of listening duration, even if it was frequently played.\n"
   ]
  },
  {
   "cell_type": "markdown",
   "id": "5dbe1b19",
   "metadata": {},
   "source": [
    "## 🎯 Step 3: Generating Initial Episode Recommendations"
   ]
  },
  {
   "cell_type": "code",
   "execution_count": 46,
   "id": "df1bf31c",
   "metadata": {},
   "outputs": [],
   "source": [
    "# Define the recommendation function\n",
    "def recommend_episodes(user_id: int, listens_df: pd.DataFrame, episodes_df: pd.DataFrame) -> pd.DataFrame:\n",
    "    # Step 1: Filter listens for the given user\n",
    "    user_listens = listens_df[listens_df['user_id'] == user_id]\n",
    "    \n",
    "    # Step 2: Merge user's listens with episode info to get categories\n",
    "    user_listens = user_listens.merge(episodes_df, on='episode_id', how='left')\n",
    "    \n",
    "    # Step 3: Find the user's most listened-to category\n",
    "    top_categories = (\n",
    "        user_listens['category']\n",
    "        .value_counts()\n",
    "        .head(1)\n",
    "        .index\n",
    "        .tolist()\n",
    "    )\n",
    "    \n",
    "    # Step 4: Get episodes from that category that the user hasn't listened to yet\n",
    "    listened_episode_ids = user_listens['episode_id'].unique()\n",
    "    recommendations = episodes_df[\n",
    "        (episodes_df['category'].isin(top_categories)) &\n",
    "        (~episodes_df['episode_id'].isin(listened_episode_ids))\n",
    "    ].drop_duplicates(subset='episode_id').head(3)\n",
    "    \n",
    "    # Step 5: Return the top 3 recommended episodes\n",
    "    return recommendations[['episode_id', 'title', 'category']]\n"
   ]
  },
  {
   "cell_type": "code",
   "execution_count": 50,
   "id": "926f5e4b",
   "metadata": {},
   "outputs": [
    {
     "data": {
      "text/html": [
       "<div>\n",
       "<style scoped>\n",
       "    .dataframe tbody tr th:only-of-type {\n",
       "        vertical-align: middle;\n",
       "    }\n",
       "\n",
       "    .dataframe tbody tr th {\n",
       "        vertical-align: top;\n",
       "    }\n",
       "\n",
       "    .dataframe thead th {\n",
       "        text-align: right;\n",
       "    }\n",
       "</style>\n",
       "<table border=\"1\" class=\"dataframe\">\n",
       "  <thead>\n",
       "    <tr style=\"text-align: right;\">\n",
       "      <th></th>\n",
       "      <th>episode_id</th>\n",
       "      <th>title</th>\n",
       "      <th>category</th>\n",
       "    </tr>\n",
       "  </thead>\n",
       "  <tbody>\n",
       "    <tr>\n",
       "      <th>8</th>\n",
       "      <td>9</td>\n",
       "      <td>Episode 9</td>\n",
       "      <td>Sports</td>\n",
       "    </tr>\n",
       "    <tr>\n",
       "      <th>10</th>\n",
       "      <td>11</td>\n",
       "      <td>Episode 11</td>\n",
       "      <td>Sports</td>\n",
       "    </tr>\n",
       "    <tr>\n",
       "      <th>11</th>\n",
       "      <td>12</td>\n",
       "      <td>Episode 12</td>\n",
       "      <td>Sports</td>\n",
       "    </tr>\n",
       "  </tbody>\n",
       "</table>\n",
       "</div>"
      ],
      "text/plain": [
       "    episode_id       title category\n",
       "8            9   Episode 9   Sports\n",
       "10          11  Episode 11   Sports\n",
       "11          12  Episode 12   Sports"
      ]
     },
     "execution_count": 50,
     "metadata": {},
     "output_type": "execute_result"
    }
   ],
   "source": [
    "# Example usage for user_id = 1\n",
    "recommend_episodes(1, merged_df[['user_id', 'episode_id']], episodes_df)"
   ]
  },
  {
   "cell_type": "code",
   "execution_count": null,
   "id": "b1802816",
   "metadata": {},
   "outputs": [
    {
     "data": {
      "text/html": [
       "<div>\n",
       "<style scoped>\n",
       "    .dataframe tbody tr th:only-of-type {\n",
       "        vertical-align: middle;\n",
       "    }\n",
       "\n",
       "    .dataframe tbody tr th {\n",
       "        vertical-align: top;\n",
       "    }\n",
       "\n",
       "    .dataframe thead th {\n",
       "        text-align: right;\n",
       "    }\n",
       "</style>\n",
       "<table border=\"1\" class=\"dataframe\">\n",
       "  <thead>\n",
       "    <tr style=\"text-align: right;\">\n",
       "      <th></th>\n",
       "      <th>episode_id</th>\n",
       "      <th>title</th>\n",
       "      <th>category</th>\n",
       "    </tr>\n",
       "  </thead>\n",
       "  <tbody>\n",
       "    <tr>\n",
       "      <th>2</th>\n",
       "      <td>3</td>\n",
       "      <td>Episode 3</td>\n",
       "      <td>Society</td>\n",
       "    </tr>\n",
       "    <tr>\n",
       "      <th>5</th>\n",
       "      <td>6</td>\n",
       "      <td>Episode 6</td>\n",
       "      <td>Society</td>\n",
       "    </tr>\n",
       "    <tr>\n",
       "      <th>12</th>\n",
       "      <td>13</td>\n",
       "      <td>Episode 13</td>\n",
       "      <td>Society</td>\n",
       "    </tr>\n",
       "  </tbody>\n",
       "</table>\n",
       "</div>"
      ],
      "text/plain": [
       "    episode_id       title category\n",
       "2            3   Episode 3  Society\n",
       "5            6   Episode 6  Society\n",
       "12          13  Episode 13  Society"
      ]
     },
     "execution_count": 52,
     "metadata": {},
     "output_type": "execute_result"
    }
   ],
   "source": [
    "# Example usage for user_id = 4\n",
    "recommend_episodes(4, merged_df[['user_id', 'episode_id']], episodes_df)"
   ]
  }
 ],
 "metadata": {
  "kernelspec": {
   "display_name": "Python 3",
   "language": "python",
   "name": "python3"
  },
  "language_info": {
   "codemirror_mode": {
    "name": "ipython",
    "version": 3
   },
   "file_extension": ".py",
   "mimetype": "text/x-python",
   "name": "python",
   "nbconvert_exporter": "python",
   "pygments_lexer": "ipython3",
   "version": "3.10.16"
  }
 },
 "nbformat": 4,
 "nbformat_minor": 5
}
